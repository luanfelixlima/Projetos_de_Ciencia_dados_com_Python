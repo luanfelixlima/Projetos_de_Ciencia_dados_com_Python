{
 "cells": [
  {
   "cell_type": "markdown",
   "id": "052b5b91",
   "metadata": {},
   "source": [
    "# Exploração e limpeza de dados\n",
    "Focus in a __data science__ and __data analytics__, using *Pandas* with *DataSets* of: https://archive.ics.uci.edu/dataset/350/default+of+credit+card+clients"
   ]
  },
  {
   "cell_type": "code",
   "execution_count": 3,
   "id": "617e4063",
   "metadata": {},
   "outputs": [],
   "source": [
    "import pandas as pd\n",
    "import matplotlib.pyplot as plt\n",
    "import matplotlib as mpl"
   ]
  },
  {
   "cell_type": "code",
   "execution_count": 6,
   "id": "d3910772",
   "metadata": {},
   "outputs": [],
   "source": [
    "df = pd.read_excel(\"default_of_credit_card_clients__courseware_version_1_21_19.xls\")"
   ]
  },
  {
   "cell_type": "code",
   "execution_count": 7,
   "id": "9f92c3a3",
   "metadata": {},
   "outputs": [
    {
     "name": "stdout",
     "output_type": "stream",
     "text": [
      "Quantidade de linhas e colunas:  (30000, 25)\n",
      "\n",
      "Quantidade de linhas: 30000\n",
      "Quantidade de dados exclusivos de cada linha da coluna \"ID\": 29687\n",
      "\n",
      "1 - ids unicos\n",
      "2 - ids repetidos count\n",
      "1    29374\n",
      "2      313\n",
      "Name: count, dtype: int64\n",
      "\n"
     ]
    }
   ],
   "source": [
    "print(\"Quantidade de linhas e colunas: \", df.shape)\n",
    "print()\n",
    "# print(df.head())  # Ver as 5 primeiras linhas do DataFrame\n",
    "\n",
    "print(\"Quantidade de linhas:\", df.shape[0])\n",
    "print(\"Quantidade de dados exclusivos de cada linha da coluna \\\"ID\\\":\", len(df['ID'].unique()))\n",
    "\n",
    "qnt_id = df['ID'].value_counts()  # value_counts() / groupby|count do SQL\n",
    "print(\"\")\n",
    "print(\"1 - ids unicos\\n2 - ids repetidos\", qnt_id.value_counts())  # retornando quantos ids repetidos há\n",
    "print(\"\")"
   ]
  },
  {
   "cell_type": "code",
   "execution_count": 8,
   "id": "fc3eb074",
   "metadata": {},
   "outputs": [
    {
     "name": "stdout",
     "output_type": "stream",
     "text": [
      "True - Id repetido ID\n",
      "ad23fe5c-7b09    True\n",
      "1fb3e3e6-a68d    True\n",
      "89f8f447-fca8    True\n",
      "7c9b7473-cc2f    True\n",
      "90330d02-82d9    True\n",
      "Name: count, dtype: bool\n",
      "\n",
      "Index dos ids duplicados:\n",
      " Index(['ad23fe5c-7b09', '1fb3e3e6-a68d', '89f8f447-fca8', '7c9b7473-cc2f',\n",
      "       '90330d02-82d9'],\n",
      "      dtype='object', name='ID')\n",
      "\n",
      "IDs duplicados:  313\n",
      "Dados do ids duplicados:\n",
      "                  ID  LIMIT_BAL  SEX  EDUCATION  MARRIAGE  AGE PAY_1  PAY_2  \\\n",
      "5033   89f8f447-fca8     320000    2          2         1   32     0      0   \n",
      "5133   89f8f447-fca8          0    0          0         0    0     0      0   \n",
      "16727  1fb3e3e6-a68d      80000    1          2         2   33     2      2   \n",
      "\n",
      "       PAY_3  PAY_4  ...  BILL_AMT4  BILL_AMT5  BILL_AMT6  PAY_AMT1  PAY_AMT2  \\\n",
      "5033       0      0  ...     169371     172868     150827      8000      8000   \n",
      "5133       0      0  ...          0          0          0         0         0   \n",
      "16727      0      0  ...      27394      29922      31879         0      2000   \n",
      "\n",
      "       PAY_AMT3  PAY_AMT4  PAY_AMT5  PAY_AMT6  default payment next month  \n",
      "5033       5500      6100      6000      5000                           0  \n",
      "5133          0         0         0         0                           0  \n",
      "16727      2000      3000      2600         0                           1  \n",
      "\n",
      "[3 rows x 25 columns]\n"
     ]
    }
   ],
   "source": [
    "# Mascara Booleana\n",
    "mascara_ids = qnt_id == 2  # armazendo em bool os ids são repetidos\n",
    "print(\"True - Id repetido\", mascara_ids[:5], end=\"\\n\\n\")\n",
    "\n",
    "print(\"Index dos ids duplicados:\\n\", qnt_id.index[mascara_ids][:5], end=\"\\n\\n\")  # retornando o index dos ids duplicados\n",
    "ids_duplicados = qnt_id.index[mascara_ids]\n",
    "ids_duplicados = list(ids_duplicados)\n",
    "print(\"IDs duplicados: \", len(ids_duplicados))\n",
    "print(\"Dados do ids duplicados:\")\n",
    "print(df.loc[df['ID'].isin(ids_duplicados[0:3]), :].head(3))  # .loc e .isin permitem uma melhor visualização do DataFrame a partir do index\n"
   ]
  },
  {
   "cell_type": "code",
   "execution_count": 9,
   "id": "f01fad7e",
   "metadata": {},
   "outputs": [
    {
     "name": "stdout",
     "output_type": "stream",
     "text": [
      "True - 0\n",
      "      ID  LIMIT_BAL    SEX  EDUCATION  MARRIAGE    AGE  PAY_1  PAY_2  PAY_3  \\\n",
      "0  False      False  False      False     False  False  False  False  False   \n",
      "1  False      False  False      False     False  False  False  False   True   \n",
      "2  False      False  False      False     False  False   True   True   True   \n",
      "3  False      False  False      False     False  False   True   True   True   \n",
      "4  False      False  False      False     False  False  False   True  False   \n",
      "5  False      False  False      False     False  False   True   True   True   \n",
      "6  False      False  False      False     False  False   True   True   True   \n",
      "7  False      False  False      False     False  False   True  False  False   \n",
      "8  False      False  False      False     False  False   True   True  False   \n",
      "9  False      False  False      False     False  False  False  False  False   \n",
      "\n",
      "   PAY_4  ...  BILL_AMT4  BILL_AMT5  BILL_AMT6  PAY_AMT1  PAY_AMT2  PAY_AMT3  \\\n",
      "0  False  ...       True       True       True      True     False      True   \n",
      "1   True  ...      False      False      False      True     False     False   \n",
      "2   True  ...      False      False      False     False     False     False   \n",
      "3   True  ...      False      False      False     False     False     False   \n",
      "4   True  ...      False      False      False     False     False     False   \n",
      "5   True  ...      False      False      False     False     False     False   \n",
      "6   True  ...      False      False      False     False     False     False   \n",
      "7   True  ...      False      False      False     False     False      True   \n",
      "8   True  ...      False      False      False     False      True     False   \n",
      "9  False  ...       True      False      False      True      True      True   \n",
      "\n",
      "   PAY_AMT4  PAY_AMT5  PAY_AMT6  default payment next month  \n",
      "0      True      True      True                       False  \n",
      "1     False      True     False                       False  \n",
      "2     False     False     False                        True  \n",
      "3     False     False     False                        True  \n",
      "4     False     False     False                        True  \n",
      "5     False     False     False                        True  \n",
      "6     False     False     False                        True  \n",
      "7     False     False     False                        True  \n",
      "8     False     False     False                        True  \n",
      "9     False     False      True                        True  \n",
      "\n",
      "[10 rows x 25 columns]\n",
      "\n"
     ]
    }
   ],
   "source": [
    "# Removendo registro inválidos (só há \"0\" nos dados)\n",
    "mascara_df_zero = df == 0  # retorna True onde houver \"0\" dentro do dataframe\n",
    "print(\"True - 0\")\n",
    "print(mascara_df_zero[0:10])\n",
    "print(\"\")"
   ]
  },
  {
   "cell_type": "code",
   "execution_count": 10,
   "id": "171a0318",
   "metadata": {},
   "outputs": [
    {
     "name": "stdout",
     "output_type": "stream",
     "text": [
      "Linha inválida - True\n",
      " 0        False\n",
      "1        False\n",
      "2        False\n",
      "3        False\n",
      "4        False\n",
      "         ...  \n",
      "29995    False\n",
      "29996    False\n",
      "29997    False\n",
      "29998    False\n",
      "29999    False\n",
      "Length: 30000, dtype: bool\n",
      "\n",
      "Total de linhas inválidas: 315\n"
     ]
    }
   ],
   "source": [
    "# verificando se há linhas inteirissas de 0.\n",
    "linhas_invalidas = mascara_df_zero.iloc[:, 1:].all(axis=1)\n",
    "print(\"Linha inválida - True\\n\", linhas_invalidas)\n",
    "# .iloc metodo de indexacao de inteiros\n",
    "# : <-> todas as linhas  1: <-> apartir da coluna 1\n",
    "# all() retorna True se todas as colunas == True\n",
    "print(\"\\nTotal de linhas inválidas:\", sum(linhas_invalidas))  # True = 1"
   ]
  },
  {
   "cell_type": "code",
   "execution_count": 11,
   "id": "ace047d9",
   "metadata": {},
   "outputs": [
    {
     "name": "stdout",
     "output_type": "stream",
     "text": [
      "\n",
      "\n",
      "Limpeza de DataFrame realizada:\n",
      "Linhas totais no novo DataFrame -  29685 | IDs Únicos -  29685\n",
      "\n",
      "ID  PAY_1\n",
      " 0     2\n",
      "1    -1\n",
      "2     0\n",
      "Name: PAY_1, dtype: object\n",
      "\n",
      "Quantidade por tipos de dados na coluna: PAY_1\n",
      "0                13087\n",
      "-1                5047\n",
      "1                 3261\n",
      "Not available     3021\n",
      "-2                2476\n",
      "2                 2378\n",
      "3                  292\n",
      "4                   63\n",
      "5                   23\n",
      "8                   17\n",
      "6                   11\n",
      "7                    9\n",
      "Name: count, dtype: int64\n"
     ]
    }
   ],
   "source": [
    "# Limpando as linhas inválidas do DataFrame\n",
    "df_limpo_1 = df.loc[~linhas_invalidas, :].copy()  # ~ -> not | Copiamos todas linhas que não são True, não são inválidas\n",
    "\n",
    "print(\"\\n\\nLimpeza de DataFrame realizada:\")\n",
    "print(\"Linhas totais no novo DataFrame - \", df_limpo_1.shape[0], \"|\", \"IDs Únicos - \", df_limpo_1['ID'].nunique())\n",
    "\n",
    "# Verificando mais colunas\n",
    "print(\"\\nID  PAY_1\\n\", df_limpo_1['PAY_1'].head(3))\n",
    "print(\"\")\n",
    "print(\"Quantidade por tipos de dados na coluna:\", df_limpo_1['PAY_1'].value_counts())\n",
    "# Not Available: Pandas add simbolizando um valor ausente"
   ]
  },
  {
   "cell_type": "code",
   "execution_count": 12,
   "id": "2eea9871",
   "metadata": {},
   "outputs": [
    {
     "name": "stdout",
     "output_type": "stream",
     "text": [
      "\n",
      "Valore válidos (sem \"Not available\"): 26664\n",
      "Novo DataFrame: (26664, 25)\n",
      "\n",
      "Infos PAY_1\n",
      "<class 'pandas.core.series.Series'>\n",
      "Index: 26664 entries, 0 to 29999\n",
      "Series name: PAY_1\n",
      "Non-Null Count  Dtype\n",
      "--------------  -----\n",
      "26664 non-null  int64\n",
      "dtypes: int64(1)\n",
      "memory usage: 416.6 KB\n",
      "None\n",
      "\n"
     ]
    }
   ],
   "source": [
    "# Mascara Booleana\n",
    "print(\"\")\n",
    "pagamentos_validos_mascara = df_limpo_1['PAY_1'] != \"Not available\"\n",
    "print(\"Valore válidos (sem \\\"Not available\\\"):\", sum(pagamentos_validos_mascara))\n",
    "\n",
    "df_limpo_2 = df_limpo_1.loc[pagamentos_validos_mascara, :].copy()\n",
    "print(\"Novo DataFrame:\", df_limpo_2.shape)\n",
    "\n",
    "# Convertendo o tipo da coluna de \"Object\" para \"Int64\"\n",
    "print(\"\")\n",
    "df_limpo_2['PAY_1'] = df_limpo_2['PAY_1'].astype(\"int64\")  # astype converter o tipo de dados da coluna\n",
    "print(\"Infos PAY_1\")\n",
    "print(df_limpo_2['PAY_1'].info())\n",
    "print(\"\")"
   ]
  },
  {
   "cell_type": "code",
   "execution_count": 17,
   "id": "32648165",
   "metadata": {},
   "outputs": [
    {
     "name": "stdout",
     "output_type": "stream",
     "text": [
      "           LIMIT_BAL           AGE\n",
      "count   26664.000000  26664.000000\n",
      "mean   167919.054905     35.505213\n",
      "std    129839.453081      9.227442\n",
      "min     10000.000000     21.000000\n",
      "25%     50000.000000     28.000000\n",
      "50%    140000.000000     34.000000\n",
      "75%    240000.000000     41.000000\n",
      "max    800000.000000     79.000000\n"
     ]
    },
    {
     "data": {
      "image/png": "[encoded data removed]",
      "text/plain": [
       "<Figure size 640x480 with 2 Axes>"
      ]
     },
     "metadata": {},
     "output_type": "display_data"
    }
   ],
   "source": [
    "# histogramas\n",
    "mpl.rcParams[\"figure.dpi\"] = 100  # alta resolução de imagem\n",
    "df_limpo_2[['LIMIT_BAL', 'AGE']].hist()  # gerando um histograma do limite de credito e da idade\n",
    "print(df_limpo_2[['LIMIT_BAL', 'AGE']].describe())  # relatorio tabular"
   ]
  },
  {
   "cell_type": "code",
   "execution_count": 18,
   "id": "7d055bf8",
   "metadata": {},
   "outputs": [
    {
     "name": "stdout",
     "output_type": "stream",
     "text": [
      "\n",
      "De acordo com o dicionario de dados 0, 5 e 6 não correspondem a nenhum grau de educação\n",
      "vamos mover eles para o grau \"outros\" [4]\n",
      "EDUCATION\n",
      "2    12458\n",
      "1     9412\n",
      "3     4380\n",
      "5      245\n",
      "4      115\n",
      "6       43\n",
      "0       11\n",
      "Name: count, dtype: int64\n",
      "EDUCATION\n",
      "2    12458\n",
      "1     9412\n",
      "3     4380\n",
      "4      414\n",
      "Name: count, dtype: int64\n"
     ]
    }
   ],
   "source": [
    "# limpando coluna education\n",
    "print(\"\")\n",
    "print(\"De acordo com o dicionario de dados 0, 5 e 6 não correspondem a nenhum grau de educação\\n\"\n",
    "      \"vamos mover eles para o grau \\\"outros\\\" [4]\")\n",
    "print(df_limpo_2['EDUCATION'].value_counts())\n",
    "df_limpo_2['EDUCATION'].replace(to_replace=[0, 5, 6], value=4, inplace=True)  # inplace -> não cria um dataFrame novo, apenas altera o existente\n",
    "print(df_limpo_2['EDUCATION'].value_counts())  # df limpo\n"
   ]
  },
  {
   "cell_type": "code",
   "execution_count": 19,
   "id": "d50cad28",
   "metadata": {},
   "outputs": [
    {
     "name": "stdout",
     "output_type": "stream",
     "text": [
      "\n",
      "De acordo com o dicionario de dados 0 não correspondem a nenhum valor de estado civil\n",
      "vamos mover eles para o estado de \"outros\" [3]\n",
      "MARRIAGE\n",
      "2    14158\n",
      "1    12172\n",
      "3      286\n",
      "0       48\n",
      "Name: count, dtype: int64\n",
      "MARRIAGE\n",
      "2    14158\n",
      "1    12172\n",
      "3      334\n",
      "Name: count, dtype: int64\n",
      "\n"
     ]
    }
   ],
   "source": [
    "# limpando coluna marriage\n",
    "print(\"\")\n",
    "print(\"De acordo com o dicionario de dados 0 não correspondem a nenhum valor de estado civil\\n\"\n",
    "      \"vamos mover eles para o estado de \\\"outros\\\" [3]\")\n",
    "print(df_limpo_2['MARRIAGE'].value_counts())\n",
    "df_limpo_2['MARRIAGE'].replace(to_replace=0, value=3, inplace=True)\n",
    "print(df_limpo_2['MARRIAGE'].value_counts())  # df limpo\n",
    "print(\"\")"
   ]
  },
  {
   "cell_type": "code",
   "execution_count": 20,
   "id": "b212ad7a",
   "metadata": {},
   "outputs": [
    {
     "name": "stdout",
     "output_type": "stream",
     "text": [
      "Criando uma coluna com string ao invés de números para classificar o grau estudo:\n",
      "     EDUCATION_CAT  EDUCATION\n",
      "0       university          2\n",
      "1       university          2\n",
      "2       university          2\n",
      "3       university          2\n",
      "4       university          2\n",
      "5  graduate school          1\n",
      "6  graduate school          1\n",
      "7       university          2\n",
      "8      high school          3\n",
      "9      high school          3\n",
      "\n",
      "Codificao one-hot encoding:\n",
      "   graduate school  high school  others  university\n",
      "0            False        False   False        True\n",
      "1            False        False   False        True\n",
      "2            False        False   False        True\n",
      "3            False        False   False        True\n",
      "4            False        False   False        True\n",
      "5             True        False   False       False\n",
      "6             True        False   False       False\n",
      "7            False        False   False        True\n",
      "8            False         True   False       False\n",
      "9            False         True   False       False\n",
      "\n",
      "Concatenando o DF de codificação one-hot com o original\n",
      "     EDUCATION_CAT  graduate school  high school  university  others\n",
      "0       university            False        False        True   False\n",
      "1       university            False        False        True   False\n",
      "2       university            False        False        True   False\n",
      "3       university            False        False        True   False\n",
      "4       university            False        False        True   False\n",
      "5  graduate school             True        False       False   False\n",
      "6  graduate school             True        False       False   False\n",
      "7       university            False        False        True   False\n",
      "8      high school            False         True       False   False\n",
      "9      high school            False         True       False   False\n",
      "\n"
     ]
    }
   ],
   "source": [
    "# inverteremos as classificações para aplicar um one-hot encoding melhor para o modelo que iremos criar\n",
    "print(\"Criando uma coluna com string ao invés de números para classificar o grau estudo:\")\n",
    "df_limpo_2['EDUCATION_CAT'] = 'none'\n",
    "\n",
    "cat_mapping = {  # relação\n",
    "      1: \"graduate school\",\n",
    "      2: \"university\",\n",
    "      3: \"high school\",\n",
    "      4: \"others\"\n",
    "}\n",
    "df_limpo_2['EDUCATION_CAT'] = df_limpo_2['EDUCATION'].map(cat_mapping)  # .map -> mapeia os valores antigos e atribui aos novos os valores de acordo com o dicionario\n",
    "print(df_limpo_2[['EDUCATION_CAT', 'EDUCATION']].head(10))\n",
    "\n",
    "print(\"\\nCodificao one-hot encoding:\")\n",
    "education_ohe = pd.get_dummies(df_limpo_2['EDUCATION_CAT'])  # get_dummies -> recebe uma coluna de DF e retorna um novo DF com um num igual de colunas e níveis de variável categórica. Variáveis dummy.\n",
    "print(education_ohe.head(10))\n",
    "\n",
    "print(\"\\nConcatenando o DF de codificação one-hot com o original\")\n",
    "df_ohe = pd.concat(objs=[df_limpo_2, education_ohe], axis=1)  # axis=1 -> para que sejam concatenados horizontalmente, eixo da coluna.\n",
    "print(df_ohe[['EDUCATION_CAT', 'graduate school', 'high school', 'university', 'others']].head(10))\n",
    "\n",
    "df_ohe.to_csv('dados_explorados_e_limpos.csv')  # salvando o DF limpo e codificado em um arquivo CSV\n",
    "print(\"\")"
   ]
  },
  {
   "cell_type": "code",
   "execution_count": 21,
   "id": "b7fa2cdc",
   "metadata": {},
   "outputs": [
    {
     "name": "stdout",
     "output_type": "stream",
     "text": [
      "Novo DF: (26664, 31)\n",
      "Estatisticas:\n",
      "              PAY_1         PAY_2         PAY_3         PAY_4         PAY_5  \\\n",
      "count  26664.000000  26664.000000  26664.000000  26664.000000  26664.000000   \n",
      "mean      -0.017777     -0.133363     -0.167679     -0.225023     -0.269764   \n",
      "std        1.126769      1.198640      1.199165      1.167897      1.131735   \n",
      "min       -2.000000     -2.000000     -2.000000     -2.000000     -2.000000   \n",
      "25%       -1.000000     -1.000000     -1.000000     -1.000000     -1.000000   \n",
      "50%        0.000000      0.000000      0.000000      0.000000      0.000000   \n",
      "75%        0.000000      0.000000      0.000000      0.000000      0.000000   \n",
      "max        8.000000      8.000000      8.000000      8.000000      8.000000   \n",
      "\n",
      "              PAY_6  \n",
      "count  26664.000000  \n",
      "mean      -0.293579  \n",
      "std        1.150229  \n",
      "min       -2.000000  \n",
      "25%       -1.000000  \n",
      "50%        0.000000  \n",
      "75%        0.000000  \n",
      "max        8.000000  \n",
      "\n",
      "agrupando e ordenando os valores de 'PAY_1\n",
      " PAY_1\n",
      "-2     2476\n",
      "-1     5047\n",
      " 0    13087\n",
      " 1     3261\n",
      " 2     2378\n",
      " 3      292\n",
      " 4       63\n",
      " 5       23\n",
      " 6       11\n",
      " 7        9\n",
      " 8       17\n",
      "Name: count, dtype: int64\n"
     ]
    },
    {
     "data": {
      "text/plain": [
       "<Axes: >"
      ]
     },
     "execution_count": 21,
     "metadata": {},
     "output_type": "execute_result"
    },
    {
     "data": {
      "image/png": "[encoded data removed]",
      "text/plain": [
       "<Figure size 640x480 with 1 Axes>"
      ]
     },
     "metadata": {},
     "output_type": "display_data"
    }
   ],
   "source": [
    "# verificando o historico financeiro\n",
    "df = pd.read_csv('dados_explorados_e_limpos.csv')\n",
    "print(\"Novo DF:\", df.shape)\n",
    "pay_feats = ['PAY_1', 'PAY_2', 'PAY_3', 'PAY_4', 'PAY_5', 'PAY_6']\n",
    "\n",
    "print(\"Estatisticas:\")\n",
    "print(df[pay_feats].describe())\n",
    "\n",
    "print(\"\\nagrupando e ordenando os valores de 'PAY_1\\n\", df[pay_feats[0]].value_counts().sort_index())\n",
    "df[pay_feats[0]].hist()"
   ]
  },
  {
   "cell_type": "code",
   "execution_count": 23,
   "id": "1a491462",
   "metadata": {},
   "outputs": [],
   "source": [
    "import numpy as np"
   ]
  },
  {
   "cell_type": "code",
   "execution_count": 25,
   "id": "8cd5412b",
   "metadata": {},
   "outputs": [
    {
     "name": "stdout",
     "output_type": "stream",
     "text": [
      "\n",
      " [-2.5 -1.5 -0.5  0.5  1.5  2.5  3.5  4.5  5.5  6.5  7.5  8.5]\n"
     ]
    },
    {
     "data": {
      "text/plain": [
       "Text(0, 0.5, 'Números de contas')"
      ]
     },
     "execution_count": 25,
     "metadata": {},
     "output_type": "execute_result"
    },
    {
     "data": {
      "image/png": "[encoded data removed]",
      "text/plain": [
       "<Figure size 640x480 with 6 Axes>"
      ]
     },
     "metadata": {},
     "output_type": "display_data"
    }
   ],
   "source": [
    "# bins do histograma\n",
    "pay_1_bins = np.array(range(-2, 10)) - 0.5\n",
    "print(\"\\n\", pay_1_bins)\n",
    "\n",
    "df[pay_feats].hist(bins=pay_1_bins)\n",
    "plt.ylabel(\"Números de contas\")"
   ]
  },
  {
   "cell_type": "code",
   "execution_count": null,
   "id": "806fbd0c",
   "metadata": {},
   "outputs": [],
   "source": []
  }
 ],
 "metadata": {
  "kernelspec": {
   "display_name": "Python 3 (ipykernel)",
   "language": "python",
   "name": "python3"
  },
  "language_info": {
   "codemirror_mode": {
    "name": "ipython",
    "version": 3
   },
   "file_extension": ".py",
   "mimetype": "text/x-python",
   "name": "python",
   "nbconvert_exporter": "python",
   "pygments_lexer": "ipython3",
   "version": "3.11.3"
  }
 },
 "nbformat": 4,
 "nbformat_minor": 5
}
